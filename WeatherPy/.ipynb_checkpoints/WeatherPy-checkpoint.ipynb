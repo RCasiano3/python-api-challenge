{
 "cells": [
  {
   "cell_type": "code",
   "execution_count": 1,
   "metadata": {},
   "outputs": [],
   "source": [
    "# Dependencies and Setup\n",
    "import matplotlib.pyplot as plt\n",
    "import pandas as pd\n",
    "import numpy as np\n",
    "import requests\n",
    "import time\n",
    "from datetime import datetime\n",
    "from scipy import stats\n",
    "from scipy.stats import linregress\n",
    "\n",
    "# Impor the OpenWeatherMap API key\n",
    "from apikeys import weather_api_key\n",
    "\n",
    "# Import citipy to determine the cities based on latitude and longitude\n",
    "from citipy import citipy"
   ]
  },
  {
   "cell_type": "code",
   "execution_count": 2,
   "metadata": {},
   "outputs": [
    {
     "name": "stdout",
     "output_type": "stream",
     "text": [
      "Number of cities in the list: 615\n"
     ]
    }
   ],
   "source": [
    "# Empty list for holding the latitude and longitude combinations\n",
    "lat_lngs = []\n",
    "\n",
    "# Empty list for holding the cities names\n",
    "cities = []\n",
    "\n",
    "# Range of latitudes and longitudes\n",
    "lat_range = (-90, 90)\n",
    "lng_range = (-180, 180)\n",
    "\n",
    "# Create a set of random lat and lng combinations\n",
    "lats = np.random.uniform(lat_range[0], lat_range[1], size=1500)\n",
    "lngs = np.random.uniform(lng_range[0], lng_range[1], size=1500)\n",
    "lat_lngs = zip(lats, lngs)\n",
    "\n",
    "# Identify nearest city for each lat, lng combination\n",
    "for lat_lng in lat_lngs:\n",
    "    city = citipy.nearest_city(lat_lng[0], lat_lng[1]).city_name\n",
    "    \n",
    "    # If the city is unique, then add it to a our cities list\n",
    "    if city not in cities:\n",
    "        cities.append(city)\n",
    "\n",
    "# Print the city count to confirm sufficient count\n",
    "print(f\"Number of cities in the list: {len(cities)}\")"
   ]
  },
  {
   "cell_type": "markdown",
   "metadata": {},
   "source": [
    "# Use the OpenWeatherMap API to retrieve weather data from the cities list generated in the started code"
   ]
  },
  {
   "cell_type": "code",
   "execution_count": 3,
   "metadata": {},
   "outputs": [
    {
     "name": "stdout",
     "output_type": "stream",
     "text": [
      "Beginning Data Retrieval     \n",
      "-----------------------------\n",
      "Processing Record 1 of Set 1 | pevek\n",
      "Processing Record 2 of Set 1 | flin flon\n",
      "Processing Record 3 of Set 1 | lebu\n",
      "Processing Record 4 of Set 1 | moissala\n",
      "Processing Record 5 of Set 1 | bethel\n",
      "Processing Record 6 of Set 1 | vaini\n",
      "Processing Record 7 of Set 1 | naze\n",
      "Processing Record 8 of Set 1 | port hedland\n",
      "Processing Record 9 of Set 1 | penzance\n",
      "Processing Record 10 of Set 1 | pisco\n",
      "Processing Record 11 of Set 1 | hithadhoo\n",
      "Processing Record 12 of Set 1 | rikitea\n",
      "Processing Record 13 of Set 1 | nautla\n",
      "Processing Record 14 of Set 1 | buckeye\n",
      "Processing Record 15 of Set 1 | yellowknife\n",
      "Processing Record 16 of Set 1 | bluff\n",
      "Processing Record 17 of Set 1 | atuona\n",
      "Processing Record 18 of Set 1 | chimoio\n",
      "Processing Record 19 of Set 1 | punta arenas\n",
      "Processing Record 20 of Set 1 | butaritari\n",
      "Processing Record 21 of Set 1 | tawkar\n",
      "City not found. Skipping...\n",
      "Processing Record 22 of Set 1 | vestmannaeyjar\n",
      "Processing Record 23 of Set 1 | nanortalik\n",
      "Processing Record 24 of Set 1 | coquimbo\n",
      "Processing Record 25 of Set 1 | bengkulu\n",
      "Processing Record 26 of Set 1 | guilin\n",
      "Processing Record 27 of Set 1 | chuy\n",
      "Processing Record 28 of Set 1 | kodiak\n",
      "Processing Record 29 of Set 1 | itarema\n",
      "Processing Record 30 of Set 1 | goundi\n",
      "Processing Record 31 of Set 1 | ushuaia\n",
      "Processing Record 32 of Set 1 | meyungs\n",
      "City not found. Skipping...\n",
      "Processing Record 33 of Set 1 | warqla\n",
      "City not found. Skipping...\n",
      "Processing Record 34 of Set 1 | busselton\n",
      "Processing Record 35 of Set 1 | torbay\n",
      "Processing Record 36 of Set 1 | barrow\n",
      "Processing Record 37 of Set 1 | port elizabeth\n",
      "Processing Record 38 of Set 1 | thompson\n",
      "Processing Record 39 of Set 1 | yasothon\n",
      "Processing Record 40 of Set 1 | nome\n",
      "Processing Record 41 of Set 1 | taltal\n",
      "Processing Record 42 of Set 1 | pak thong chai\n",
      "Processing Record 43 of Set 1 | abu zabad\n",
      "Processing Record 44 of Set 1 | sao filipe\n",
      "Processing Record 45 of Set 1 | great yarmouth\n",
      "Processing Record 46 of Set 1 | tuktoyaktuk\n",
      "Processing Record 47 of Set 1 | ribeira grande\n",
      "Processing Record 48 of Set 1 | kahului\n",
      "Processing Record 49 of Set 1 | albany\n",
      "Processing Record 50 of Set 1 | carnarvon\n",
      "Processing Record 0 of Set 2 | pochutla\n",
      "Processing Record 1 of Set 2 | kavaratti\n",
      "Processing Record 2 of Set 2 | mys shmidta\n",
      "City not found. Skipping...\n",
      "Processing Record 3 of Set 2 | chatham\n",
      "Processing Record 4 of Set 2 | anar darreh\n",
      "City not found. Skipping...\n",
      "Processing Record 5 of Set 2 | georgetown\n",
      "Processing Record 6 of Set 2 | wabag\n",
      "Processing Record 7 of Set 2 | carballo\n",
      "Processing Record 8 of Set 2 | upington\n",
      "Processing Record 9 of Set 2 | pipar\n",
      "Processing Record 10 of Set 2 | palmar\n",
      "Processing Record 11 of Set 2 | naryan-mar\n",
      "Processing Record 12 of Set 2 | apricena\n",
      "Processing Record 13 of Set 2 | mataura\n",
      "Processing Record 14 of Set 2 | codajas\n",
      "Processing Record 15 of Set 2 | taolanaro\n",
      "City not found. Skipping...\n",
      "Processing Record 16 of Set 2 | hobart\n",
      "Processing Record 17 of Set 2 | khash\n",
      "Processing Record 18 of Set 2 | chokurdakh\n",
      "Processing Record 19 of Set 2 | khatanga\n",
      "Processing Record 20 of Set 2 | tasiilaq\n",
      "Processing Record 21 of Set 2 | zhigansk\n",
      "Processing Record 22 of Set 2 | saldanha\n",
      "Processing Record 23 of Set 2 | shimoda\n",
      "Processing Record 24 of Set 2 | evensk\n",
      "Processing Record 25 of Set 2 | bredasdorp\n",
      "Processing Record 26 of Set 2 | ilulissat\n",
      "Processing Record 27 of Set 2 | castro\n",
      "Processing Record 28 of Set 2 | saskylakh\n",
      "Processing Record 29 of Set 2 | deputatskiy\n",
      "Processing Record 30 of Set 2 | resistencia\n",
      "Processing Record 31 of Set 2 | hobyo\n",
      "Processing Record 32 of Set 2 | las margaritas\n",
      "Processing Record 33 of Set 2 | cape town\n",
      "Processing Record 34 of Set 2 | luanda\n",
      "Processing Record 35 of Set 2 | manadhoo\n",
      "Processing Record 36 of Set 2 | bambanglipuro\n",
      "Processing Record 37 of Set 2 | ramenskoye\n",
      "Processing Record 38 of Set 2 | acapulco\n",
      "Processing Record 39 of Set 2 | basoko\n",
      "Processing Record 40 of Set 2 | atar\n",
      "Processing Record 41 of Set 2 | mount gambier\n",
      "Processing Record 42 of Set 2 | qaanaaq\n",
      "Processing Record 43 of Set 2 | jamestown\n",
      "Processing Record 44 of Set 2 | palabuhanratu\n",
      "City not found. Skipping...\n",
      "Processing Record 45 of Set 2 | avera\n",
      "Processing Record 46 of Set 2 | lavrentiya\n",
      "Processing Record 47 of Set 2 | nokaneng\n",
      "Processing Record 48 of Set 2 | hilo\n",
      "Processing Record 49 of Set 2 | la rioja\n",
      "Processing Record 0 of Set 3 | meadow lake\n",
      "Processing Record 1 of Set 3 | barguzin\n",
      "Processing Record 2 of Set 3 | komsomolskiy\n",
      "Processing Record 3 of Set 3 | correntina\n",
      "Processing Record 4 of Set 3 | lakhimpur\n",
      "Processing Record 5 of Set 3 | bud\n",
      "Processing Record 6 of Set 3 | muzhi\n",
      "Processing Record 7 of Set 3 | murray bridge\n",
      "Processing Record 8 of Set 3 | karauzyak\n",
      "City not found. Skipping...\n",
      "Processing Record 9 of Set 3 | tumannyy\n",
      "City not found. Skipping...\n",
      "Processing Record 10 of Set 3 | grand river south east\n",
      "City not found. Skipping...\n",
      "Processing Record 11 of Set 3 | esmeraldas\n",
      "Processing Record 12 of Set 3 | koutiala\n",
      "Processing Record 13 of Set 3 | nyagan\n",
      "Processing Record 14 of Set 3 | maraba\n",
      "Processing Record 15 of Set 3 | bitkine\n",
      "Processing Record 16 of Set 3 | narsaq\n",
      "Processing Record 17 of Set 3 | nizhneyansk\n",
      "City not found. Skipping...\n",
      "Processing Record 18 of Set 3 | rawson\n",
      "Processing Record 19 of Set 3 | havre-saint-pierre\n",
      "Processing Record 20 of Set 3 | amderma\n",
      "City not found. Skipping...\n",
      "Processing Record 21 of Set 3 | shingu\n",
      "Processing Record 22 of Set 3 | modasa\n",
      "Processing Record 23 of Set 3 | orocue\n",
      "Processing Record 24 of Set 3 | illoqqortoormiut\n",
      "City not found. Skipping...\n",
      "Processing Record 25 of Set 3 | mackay\n",
      "Processing Record 26 of Set 3 | portland\n",
      "Processing Record 27 of Set 3 | kalmunai\n",
      "Processing Record 28 of Set 3 | ocara\n",
      "Processing Record 29 of Set 3 | kirakira\n",
      "Processing Record 30 of Set 3 | samusu\n",
      "City not found. Skipping...\n",
      "Processing Record 31 of Set 3 | hue\n",
      "Processing Record 32 of Set 3 | provideniya\n",
      "Processing Record 33 of Set 3 | hamilton\n",
      "Processing Record 34 of Set 3 | antalaha\n",
      "Processing Record 35 of Set 3 | souillac\n",
      "Processing Record 36 of Set 3 | tsihombe\n",
      "City not found. Skipping...\n",
      "Processing Record 37 of Set 3 | cumbitara\n",
      "Processing Record 38 of Set 3 | raga\n",
      "Processing Record 39 of Set 3 | hermanus\n",
      "Processing Record 40 of Set 3 | ocampo\n",
      "Processing Record 41 of Set 3 | katsuura\n",
      "Processing Record 42 of Set 3 | wajir\n",
      "Processing Record 43 of Set 3 | mar del plata\n",
      "Processing Record 44 of Set 3 | kapaa\n",
      "Processing Record 45 of Set 3 | dikson\n",
      "Processing Record 46 of Set 3 | summerville\n",
      "Processing Record 47 of Set 3 | sao joao da barra\n",
      "Processing Record 48 of Set 3 | new norfolk\n",
      "Processing Record 49 of Set 3 | te anau\n",
      "Processing Record 0 of Set 4 | belushya guba\n",
      "City not found. Skipping...\n",
      "Processing Record 1 of Set 4 | riberalta\n",
      "Processing Record 2 of Set 4 | kjollefjord\n",
      "Processing Record 3 of Set 4 | bataipora\n",
      "Processing Record 4 of Set 4 | barentsburg\n",
      "City not found. Skipping...\n",
      "Processing Record 5 of Set 4 | karakendzha\n",
      "City not found. Skipping...\n",
      "Processing Record 6 of Set 4 | middlebury\n",
      "Processing Record 7 of Set 4 | kavieng\n",
      "Processing Record 8 of Set 4 | port lincoln\n",
      "Processing Record 9 of Set 4 | hofn\n",
      "Processing Record 10 of Set 4 | sao jose da laje\n",
      "Processing Record 11 of Set 4 | nikolskoye\n",
      "Processing Record 12 of Set 4 | barao de melgaco\n",
      "Processing Record 13 of Set 4 | severo-kurilsk\n",
      "Processing Record 14 of Set 4 | general roca\n",
      "Processing Record 15 of Set 4 | babanusah\n",
      "City not found. Skipping...\n",
      "Processing Record 16 of Set 4 | tecolutilla\n",
      "Processing Record 17 of Set 4 | nhulunbuy\n",
      "Processing Record 18 of Set 4 | sumkino\n",
      "Processing Record 19 of Set 4 | verdalsora\n",
      "City not found. Skipping...\n",
      "Processing Record 20 of Set 4 | marienburg\n",
      "Processing Record 21 of Set 4 | bur gabo\n",
      "City not found. Skipping...\n",
      "Processing Record 22 of Set 4 | valente\n",
      "Processing Record 23 of Set 4 | cidreira\n",
      "Processing Record 24 of Set 4 | buncrana\n",
      "Processing Record 25 of Set 4 | ugoofaaru\n",
      "Processing Record 26 of Set 4 | jalu\n",
      "Processing Record 27 of Set 4 | baykit\n",
      "Processing Record 28 of Set 4 | polis\n",
      "Processing Record 29 of Set 4 | tiksi\n",
      "Processing Record 30 of Set 4 | ankara\n",
      "Processing Record 31 of Set 4 | krasnogorskoye\n",
      "Processing Record 32 of Set 4 | sentyabrskiy\n",
      "City not found. Skipping...\n",
      "Processing Record 33 of Set 4 | amos\n"
     ]
    },
    {
     "name": "stdout",
     "output_type": "stream",
     "text": [
      "Processing Record 34 of Set 4 | lumsden\n",
      "Processing Record 35 of Set 4 | tiarei\n",
      "Processing Record 36 of Set 4 | pilar\n",
      "Processing Record 37 of Set 4 | anloga\n",
      "Processing Record 38 of Set 4 | ambovombe\n",
      "Processing Record 39 of Set 4 | jacareacanga\n",
      "Processing Record 40 of Set 4 | puerto ayora\n",
      "Processing Record 41 of Set 4 | nayoro\n",
      "Processing Record 42 of Set 4 | tanabe\n",
      "Processing Record 43 of Set 4 | shaunavon\n",
      "Processing Record 44 of Set 4 | boyolangu\n",
      "Processing Record 45 of Set 4 | maragogi\n",
      "Processing Record 46 of Set 4 | cienfuegos\n",
      "Processing Record 47 of Set 4 | berlevag\n",
      "Processing Record 48 of Set 4 | marzuq\n",
      "Processing Record 49 of Set 4 | okhotsk\n",
      "Processing Record 0 of Set 5 | vila\n",
      "Processing Record 1 of Set 5 | yinchuan\n",
      "Processing Record 2 of Set 5 | rocha\n",
      "Processing Record 3 of Set 5 | kruisfontein\n",
      "Processing Record 4 of Set 5 | chapais\n",
      "Processing Record 5 of Set 5 | nioro\n",
      "Processing Record 6 of Set 5 | nagato\n",
      "Processing Record 7 of Set 5 | grand centre\n",
      "City not found. Skipping...\n",
      "Processing Record 8 of Set 5 | ponta delgada\n",
      "Processing Record 9 of Set 5 | sorland\n",
      "Processing Record 10 of Set 5 | belmonte\n",
      "Processing Record 11 of Set 5 | inuvik\n",
      "Processing Record 12 of Set 5 | zhezkazgan\n",
      "Processing Record 13 of Set 5 | goderich\n",
      "Processing Record 14 of Set 5 | oksovskiy\n",
      "Processing Record 15 of Set 5 | pacific grove\n",
      "Processing Record 16 of Set 5 | harrison\n",
      "Processing Record 17 of Set 5 | kingaroy\n",
      "Processing Record 18 of Set 5 | manokwari\n",
      "Processing Record 19 of Set 5 | annau\n",
      "Processing Record 20 of Set 5 | coahuayana\n",
      "Processing Record 21 of Set 5 | kajaani\n",
      "Processing Record 22 of Set 5 | airai\n",
      "Processing Record 23 of Set 5 | asau\n",
      "Processing Record 24 of Set 5 | qasigiannguit\n",
      "Processing Record 25 of Set 5 | avarua\n",
      "Processing Record 26 of Set 5 | saint-joseph\n",
      "Processing Record 27 of Set 5 | ozernovskiy\n",
      "Processing Record 28 of Set 5 | meulaboh\n",
      "Processing Record 29 of Set 5 | samarai\n",
      "Processing Record 30 of Set 5 | lompoc\n",
      "Processing Record 31 of Set 5 | alice springs\n",
      "Processing Record 32 of Set 5 | padang\n",
      "Processing Record 33 of Set 5 | umzimvubu\n",
      "City not found. Skipping...\n",
      "Processing Record 34 of Set 5 | batagay-alyta\n",
      "Processing Record 35 of Set 5 | contamana\n",
      "Processing Record 36 of Set 5 | calvinia\n",
      "Processing Record 37 of Set 5 | port keats\n",
      "Processing Record 38 of Set 5 | port alfred\n",
      "Processing Record 39 of Set 5 | teknaf\n",
      "Processing Record 40 of Set 5 | sitka\n",
      "Processing Record 41 of Set 5 | karratha\n",
      "Processing Record 42 of Set 5 | urumqi\n",
      "Processing Record 43 of Set 5 | bereda\n",
      "Processing Record 44 of Set 5 | zolotinka\n",
      "City not found. Skipping...\n",
      "Processing Record 45 of Set 5 | suntar\n",
      "Processing Record 46 of Set 5 | sungaipenuh\n",
      "Processing Record 47 of Set 5 | tilichiki\n",
      "Processing Record 48 of Set 5 | primorsk\n",
      "Processing Record 49 of Set 5 | mayo\n",
      "Processing Record 0 of Set 6 | bengbu\n",
      "Processing Record 1 of Set 6 | linhai\n",
      "Processing Record 2 of Set 6 | victoria\n",
      "Processing Record 3 of Set 6 | chadiza\n",
      "Processing Record 4 of Set 6 | severo-yeniseyskiy\n",
      "Processing Record 5 of Set 6 | yaan\n",
      "Processing Record 6 of Set 6 | sataua\n",
      "City not found. Skipping...\n",
      "Processing Record 7 of Set 6 | isangel\n",
      "Processing Record 8 of Set 6 | longyan\n",
      "Processing Record 9 of Set 6 | whyalla\n",
      "Processing Record 10 of Set 6 | solano\n",
      "Processing Record 11 of Set 6 | moron\n",
      "Processing Record 12 of Set 6 | chernushka\n",
      "Processing Record 13 of Set 6 | deyang\n",
      "Processing Record 14 of Set 6 | ahipara\n",
      "Processing Record 15 of Set 6 | panzhihua\n",
      "Processing Record 16 of Set 6 | bitung\n",
      "Processing Record 17 of Set 6 | alofi\n",
      "Processing Record 18 of Set 6 | fuerte olimpo\n",
      "Processing Record 19 of Set 6 | peniche\n",
      "Processing Record 20 of Set 6 | cherskiy\n",
      "Processing Record 21 of Set 6 | san luis\n",
      "Processing Record 22 of Set 6 | dire\n",
      "Processing Record 23 of Set 6 | pringsewu\n",
      "Processing Record 24 of Set 6 | kurmanayevka\n",
      "Processing Record 25 of Set 6 | caravelas\n",
      "Processing Record 26 of Set 6 | ostrovnoy\n",
      "Processing Record 27 of Set 6 | ballina\n",
      "Processing Record 28 of Set 6 | fortuna\n",
      "Processing Record 29 of Set 6 | tautira\n",
      "Processing Record 30 of Set 6 | kaitangata\n",
      "Processing Record 31 of Set 6 | huarmey\n",
      "Processing Record 32 of Set 6 | ternate\n",
      "Processing Record 33 of Set 6 | ardabil\n",
      "Processing Record 34 of Set 6 | east london\n",
      "Processing Record 35 of Set 6 | samalaeulu\n",
      "City not found. Skipping...\n",
      "Processing Record 36 of Set 6 | constitucion\n",
      "Processing Record 37 of Set 6 | bogorodskoye\n",
      "Processing Record 38 of Set 6 | raichur\n",
      "Processing Record 39 of Set 6 | benghazi\n",
      "Processing Record 40 of Set 6 | nuevo progreso\n",
      "Processing Record 41 of Set 6 | cabo san lucas\n",
      "Processing Record 42 of Set 6 | luderitz\n",
      "Processing Record 43 of Set 6 | morondava\n",
      "Processing Record 44 of Set 6 | saint george\n",
      "Processing Record 45 of Set 6 | toila\n",
      "Processing Record 46 of Set 6 | kiruna\n",
      "Processing Record 47 of Set 6 | sao jose da coroa grande\n",
      "Processing Record 48 of Set 6 | bluffton\n",
      "Processing Record 49 of Set 6 | fare\n",
      "Processing Record 0 of Set 7 | oranjemund\n",
      "Processing Record 1 of Set 7 | longyearbyen\n",
      "Processing Record 2 of Set 7 | turukhansk\n",
      "Processing Record 3 of Set 7 | puerto ayacucho\n",
      "Processing Record 4 of Set 7 | saint-philippe\n",
      "Processing Record 5 of Set 7 | umarkhed\n",
      "Processing Record 6 of Set 7 | polyarnyy\n",
      "Processing Record 7 of Set 7 | norman wells\n",
      "Processing Record 8 of Set 7 | bulawayo\n",
      "Processing Record 9 of Set 7 | kuroiso\n",
      "Processing Record 10 of Set 7 | port augusta\n",
      "Processing Record 11 of Set 7 | solovetskiy\n",
      "City not found. Skipping...\n",
      "Processing Record 12 of Set 7 | senekal\n",
      "Processing Record 13 of Set 7 | lolua\n",
      "City not found. Skipping...\n",
      "Processing Record 14 of Set 7 | necochea\n",
      "Processing Record 15 of Set 7 | callaguip\n",
      "Processing Record 16 of Set 7 | trenggalek\n",
      "Processing Record 17 of Set 7 | arraial do cabo\n",
      "Processing Record 18 of Set 7 | krasnoselkup\n",
      "Processing Record 19 of Set 7 | poum\n",
      "Processing Record 20 of Set 7 | bochnia\n",
      "Processing Record 21 of Set 7 | jieshi\n",
      "Processing Record 22 of Set 7 | gobabis\n",
      "Processing Record 23 of Set 7 | wau\n",
      "Processing Record 24 of Set 7 | linxia\n",
      "Processing Record 25 of Set 7 | kuzhener\n",
      "Processing Record 26 of Set 7 | hasaki\n",
      "Processing Record 27 of Set 7 | mocambique\n",
      "City not found. Skipping...\n",
      "Processing Record 28 of Set 7 | namibe\n",
      "Processing Record 29 of Set 7 | avallon\n",
      "Processing Record 30 of Set 7 | half moon bay\n",
      "Processing Record 31 of Set 7 | upernavik\n",
      "Processing Record 32 of Set 7 | marshall\n",
      "Processing Record 33 of Set 7 | mahebourg\n",
      "Processing Record 34 of Set 7 | wahpeton\n",
      "Processing Record 35 of Set 7 | dingle\n",
      "Processing Record 36 of Set 7 | golyshmanovo\n",
      "Processing Record 37 of Set 7 | oktyabrskoye\n",
      "Processing Record 38 of Set 7 | townsville\n",
      "Processing Record 39 of Set 7 | maloshuyka\n",
      "City not found. Skipping...\n",
      "Processing Record 40 of Set 7 | bambous virieux\n",
      "Processing Record 41 of Set 7 | clyde river\n",
      "Processing Record 42 of Set 7 | balkhash\n",
      "Processing Record 43 of Set 7 | tessalit\n",
      "Processing Record 44 of Set 7 | tabiauea\n",
      "City not found. Skipping...\n",
      "Processing Record 45 of Set 7 | brae\n",
      "Processing Record 46 of Set 7 | saurimo\n",
      "Processing Record 47 of Set 7 | cam ranh\n",
      "Processing Record 48 of Set 7 | mangrol\n",
      "Processing Record 49 of Set 7 | labytnangi\n",
      "Processing Record 0 of Set 8 | zilina\n",
      "Processing Record 1 of Set 8 | barra patuca\n",
      "Processing Record 2 of Set 8 | houston\n",
      "Processing Record 3 of Set 8 | kismayo\n",
      "Processing Record 4 of Set 8 | dong hoi\n",
      "Processing Record 5 of Set 8 | kralendijk\n",
      "Processing Record 6 of Set 8 | mubi\n",
      "Processing Record 7 of Set 8 | ijaki\n",
      "City not found. Skipping...\n",
      "Processing Record 8 of Set 8 | skagastrond\n",
      "City not found. Skipping...\n",
      "Processing Record 9 of Set 8 | teya\n",
      "Processing Record 10 of Set 8 | lhokseumawe\n",
      "Processing Record 11 of Set 8 | zabkowice slaskie\n",
      "Processing Record 12 of Set 8 | buala\n",
      "Processing Record 13 of Set 8 | jarjis\n",
      "City not found. Skipping...\n",
      "Processing Record 14 of Set 8 | bengkalis\n",
      "City not found. Skipping...\n",
      "Processing Record 15 of Set 8 | pionki\n",
      "Processing Record 16 of Set 8 | ibra\n",
      "Processing Record 17 of Set 8 | chaozhou\n",
      "Processing Record 18 of Set 8 | dangriga\n",
      "Processing Record 19 of Set 8 | margate\n",
      "Processing Record 20 of Set 8 | esperance\n",
      "Processing Record 21 of Set 8 | port moresby\n",
      "Processing Record 22 of Set 8 | cheyenne\n",
      "Processing Record 23 of Set 8 | tevaitoa\n"
     ]
    },
    {
     "name": "stdout",
     "output_type": "stream",
     "text": [
      "Processing Record 24 of Set 8 | jawhar\n",
      "Processing Record 25 of Set 8 | akdepe\n",
      "Processing Record 26 of Set 8 | veraval\n",
      "Processing Record 27 of Set 8 | nouadhibou\n",
      "Processing Record 28 of Set 8 | tay ninh\n",
      "Processing Record 29 of Set 8 | biltine\n",
      "Processing Record 30 of Set 8 | prince rupert\n",
      "Processing Record 31 of Set 8 | malkangiri\n",
      "Processing Record 32 of Set 8 | wilmington\n",
      "Processing Record 33 of Set 8 | azare\n",
      "Processing Record 34 of Set 8 | teeli\n",
      "Processing Record 35 of Set 8 | san patricio\n",
      "Processing Record 36 of Set 8 | makakilo city\n",
      "Processing Record 37 of Set 8 | mullaitivu\n",
      "City not found. Skipping...\n",
      "Processing Record 38 of Set 8 | tiruvannamalai\n",
      "Processing Record 39 of Set 8 | pacifica\n",
      "Processing Record 40 of Set 8 | ust-bolsheretsk\n",
      "City not found. Skipping...\n",
      "Processing Record 41 of Set 8 | cilegon\n",
      "Processing Record 42 of Set 8 | andra\n",
      "Processing Record 43 of Set 8 | tual\n",
      "Processing Record 44 of Set 8 | isla mujeres\n",
      "Processing Record 45 of Set 8 | coihaique\n",
      "Processing Record 46 of Set 8 | nadym\n",
      "Processing Record 47 of Set 8 | miranda de ebro\n",
      "Processing Record 48 of Set 8 | waingapu\n",
      "Processing Record 49 of Set 8 | makat\n",
      "Processing Record 0 of Set 9 | muroto\n",
      "Processing Record 1 of Set 9 | bonthe\n",
      "Processing Record 2 of Set 9 | santa fe\n",
      "Processing Record 3 of Set 9 | ankang\n",
      "Processing Record 4 of Set 9 | klaksvik\n",
      "Processing Record 5 of Set 9 | tura\n",
      "Processing Record 6 of Set 9 | guntakal\n",
      "Processing Record 7 of Set 9 | san antonio\n",
      "Processing Record 8 of Set 9 | ostrzeszow\n",
      "Processing Record 9 of Set 9 | faanui\n",
      "Processing Record 10 of Set 9 | darhan\n",
      "Processing Record 11 of Set 9 | aksarka\n",
      "Processing Record 12 of Set 9 | liverpool\n",
      "Processing Record 13 of Set 9 | talnakh\n",
      "Processing Record 14 of Set 9 | gabu\n",
      "Processing Record 15 of Set 9 | dauphin\n",
      "Processing Record 16 of Set 9 | dorado\n",
      "Processing Record 17 of Set 9 | porkhov\n",
      "Processing Record 18 of Set 9 | hami\n",
      "Processing Record 19 of Set 9 | dolbeau\n",
      "City not found. Skipping...\n",
      "Processing Record 20 of Set 9 | eten\n",
      "Processing Record 21 of Set 9 | mahibadhoo\n",
      "Processing Record 22 of Set 9 | lasa\n",
      "Processing Record 23 of Set 9 | hillsborough\n",
      "Processing Record 24 of Set 9 | rungata\n",
      "City not found. Skipping...\n",
      "Processing Record 25 of Set 9 | bathsheba\n",
      "Processing Record 26 of Set 9 | awbari\n",
      "Processing Record 27 of Set 9 | santa cecilia\n",
      "Processing Record 28 of Set 9 | gariadhar\n",
      "Processing Record 29 of Set 9 | vardo\n",
      "Processing Record 30 of Set 9 | krabi\n",
      "Processing Record 31 of Set 9 | comodoro rivadavia\n",
      "Processing Record 32 of Set 9 | mweka\n",
      "Processing Record 33 of Set 9 | khartoum\n",
      "Processing Record 34 of Set 9 | mehamn\n",
      "Processing Record 35 of Set 9 | imbituba\n",
      "Processing Record 36 of Set 9 | waipawa\n",
      "Processing Record 37 of Set 9 | jiroft\n",
      "City not found. Skipping...\n",
      "Processing Record 38 of Set 9 | shetpe\n",
      "Processing Record 39 of Set 9 | codrington\n",
      "Processing Record 40 of Set 9 | zeya\n",
      "Processing Record 41 of Set 9 | guangyuan\n",
      "Processing Record 42 of Set 9 | ribeira brava\n",
      "Processing Record 43 of Set 9 | grand-santi\n",
      "Processing Record 44 of Set 9 | nizwa\n",
      "Processing Record 45 of Set 9 | algete\n",
      "Processing Record 46 of Set 9 | fairbanks\n",
      "Processing Record 47 of Set 9 | serpa\n",
      "Processing Record 48 of Set 9 | hovd\n",
      "Processing Record 49 of Set 9 | melfort\n",
      "Processing Record 0 of Set 10 | progreso\n",
      "Processing Record 1 of Set 10 | san cristobal\n",
      "Processing Record 2 of Set 10 | ambulu\n",
      "Processing Record 3 of Set 10 | mrirt\n",
      "City not found. Skipping...\n",
      "Processing Record 4 of Set 10 | san lawrenz\n",
      "Processing Record 5 of Set 10 | beringovskiy\n",
      "Processing Record 6 of Set 10 | turayf\n",
      "Processing Record 7 of Set 10 | amazar\n",
      "Processing Record 8 of Set 10 | matagami\n",
      "Processing Record 9 of Set 10 | mosquera\n",
      "Processing Record 10 of Set 10 | nizhniy kuranakh\n",
      "Processing Record 11 of Set 10 | laguna\n",
      "Processing Record 12 of Set 10 | tikrit\n",
      "Processing Record 13 of Set 10 | mattru\n",
      "Processing Record 14 of Set 10 | ayan\n",
      "Processing Record 15 of Set 10 | nuuk\n",
      "Processing Record 16 of Set 10 | novorzhev\n",
      "Processing Record 17 of Set 10 | batticaloa\n",
      "Processing Record 18 of Set 10 | ancud\n",
      "Processing Record 19 of Set 10 | cap malheureux\n",
      "Processing Record 20 of Set 10 | san quintin\n",
      "Processing Record 21 of Set 10 | altamirano\n",
      "Processing Record 22 of Set 10 | dolinsk\n",
      "Processing Record 23 of Set 10 | cayenne\n",
      "Processing Record 24 of Set 10 | grants\n",
      "Processing Record 25 of Set 10 | cheuskiny\n",
      "City not found. Skipping...\n",
      "Processing Record 26 of Set 10 | nan\n",
      "Processing Record 27 of Set 10 | karasjok\n",
      "Processing Record 28 of Set 10 | guerrero negro\n",
      "Processing Record 29 of Set 10 | kapit\n",
      "Processing Record 30 of Set 10 | qui nhon\n",
      "Processing Record 31 of Set 10 | vitimskiy\n",
      "City not found. Skipping...\n",
      "Processing Record 32 of Set 10 | pearl\n",
      "Processing Record 33 of Set 10 | pangody\n",
      "Processing Record 34 of Set 10 | hays\n",
      "Processing Record 35 of Set 10 | zaysan\n",
      "Processing Record 36 of Set 10 | north bend\n",
      "Processing Record 37 of Set 10 | muravlenko\n",
      "Processing Record 38 of Set 10 | suffolk\n",
      "Processing Record 39 of Set 10 | camacha\n",
      "Processing Record 40 of Set 10 | phnum penh\n",
      "City not found. Skipping...\n",
      "Processing Record 41 of Set 10 | faya\n",
      "Processing Record 42 of Set 10 | tuggurt\n",
      "City not found. Skipping...\n",
      "Processing Record 43 of Set 10 | paamiut\n",
      "Processing Record 44 of Set 10 | husavik\n",
      "Processing Record 45 of Set 10 | ponta do sol\n",
      "Processing Record 46 of Set 10 | villazon\n",
      "Processing Record 47 of Set 10 | matucana\n",
      "Processing Record 48 of Set 10 | harper\n",
      "Processing Record 49 of Set 10 | voh\n",
      "Processing Record 0 of Set 11 | pleshanovo\n",
      "Processing Record 1 of Set 11 | sinnamary\n",
      "Processing Record 2 of Set 11 | caucaia\n",
      "Processing Record 3 of Set 11 | kuruman\n",
      "Processing Record 4 of Set 11 | tolbazy\n",
      "Processing Record 5 of Set 11 | suba\n",
      "Processing Record 6 of Set 11 | cozumel\n",
      "Processing Record 7 of Set 11 | saleaula\n",
      "City not found. Skipping...\n",
      "Processing Record 8 of Set 11 | porto belo\n",
      "Processing Record 9 of Set 11 | reidsville\n",
      "Processing Record 10 of Set 11 | clermont\n",
      "Processing Record 11 of Set 11 | sabzevar\n",
      "Processing Record 12 of Set 11 | lagoa\n",
      "Processing Record 13 of Set 11 | mopti\n",
      "Processing Record 14 of Set 11 | nara\n",
      "Processing Record 15 of Set 11 | los llanos de aridane\n",
      "Processing Record 16 of Set 11 | drovyanaya\n",
      "Processing Record 17 of Set 11 | nishihara\n",
      "Processing Record 18 of Set 11 | aleksandrovsk-sakhalinskiy\n",
      "Processing Record 19 of Set 11 | nikolsk\n",
      "Processing Record 20 of Set 11 | keflavik\n",
      "Processing Record 21 of Set 11 | adrar\n",
      "Processing Record 22 of Set 11 | vuktyl\n",
      "Processing Record 23 of Set 11 | nalut\n",
      "Processing Record 24 of Set 11 | bowen\n",
      "Processing Record 25 of Set 11 | morehead\n",
      "Processing Record 26 of Set 11 | madimba\n",
      "Processing Record 27 of Set 11 | bousso\n",
      "Processing Record 28 of Set 11 | conde\n",
      "Processing Record 29 of Set 11 | marawi\n",
      "Processing Record 30 of Set 11 | hualmay\n",
      "Processing Record 31 of Set 11 | shache\n",
      "Processing Record 32 of Set 11 | kazalinsk\n",
      "City not found. Skipping...\n",
      "Processing Record 33 of Set 11 | victor harbor\n",
      "Processing Record 34 of Set 11 | nurota\n",
      "Processing Record 35 of Set 11 | college\n",
      "Processing Record 36 of Set 11 | jiquilpan\n",
      "Processing Record 37 of Set 11 | cockburn town\n",
      "Processing Record 38 of Set 11 | buchanan\n",
      "Processing Record 39 of Set 11 | khasan\n",
      "Processing Record 40 of Set 11 | diego de almagro\n",
      "Processing Record 41 of Set 11 | formoso do araguaia\n",
      "City not found. Skipping...\n",
      "Processing Record 42 of Set 11 | vale\n",
      "Processing Record 43 of Set 11 | laranjeiras do sul\n",
      "Processing Record 44 of Set 11 | bandarbeyla\n",
      "Processing Record 45 of Set 11 | arroyo\n",
      "Processing Record 46 of Set 11 | bonoua\n",
      "Processing Record 47 of Set 11 | fonte boa\n",
      "Processing Record 48 of Set 11 | yerbogachen\n",
      "Processing Record 49 of Set 11 | kutum\n",
      "Processing Record 0 of Set 12 | attawapiskat\n",
      "City not found. Skipping...\n",
      "Processing Record 1 of Set 12 | bacani\n",
      "Processing Record 2 of Set 12 | nantucket\n",
      "Processing Record 3 of Set 12 | svetlaya\n",
      "Processing Record 4 of Set 12 | boyabat\n",
      "Processing Record 5 of Set 12 | calamar\n",
      "Processing Record 6 of Set 12 | geraldton\n",
      "Processing Record 7 of Set 12 | dawlatabad\n",
      "Processing Record 8 of Set 12 | manturovo\n",
      "Processing Record 9 of Set 12 | cimarron hills\n",
      "Processing Record 10 of Set 12 | severnyy-kospashskiy\n",
      "Processing Record 11 of Set 12 | iqaluit\n"
     ]
    },
    {
     "name": "stdout",
     "output_type": "stream",
     "text": [
      "Processing Record 12 of Set 12 | yulara\n",
      "Processing Record 13 of Set 12 | merritt\n",
      "Processing Record 14 of Set 12 | kenai\n",
      "Processing Record 15 of Set 12 | sarkand\n",
      "Processing Record 16 of Set 12 | jambi\n",
      "Processing Record 17 of Set 12 | svetlyy\n",
      "Processing Record 18 of Set 12 | panaba\n",
      "Processing Record 19 of Set 12 | gaoyou\n",
      "Processing Record 20 of Set 12 | banepa\n",
      "Processing Record 21 of Set 12 | fernandopolis\n",
      "Processing Record 22 of Set 12 | vila do maio\n",
      "Processing Record 23 of Set 12 | falmouth\n",
      "Processing Record 24 of Set 12 | marcona\n",
      "City not found. Skipping...\n",
      "Processing Record 25 of Set 12 | taian\n",
      "Processing Record 26 of Set 12 | bolshoy lug\n",
      "Processing Record 27 of Set 12 | rehoboth\n",
      "Processing Record 28 of Set 12 | asosa\n",
      "Processing Record 29 of Set 12 | abilene\n",
      "Processing Record 30 of Set 12 | tocopilla\n",
      "Processing Record 31 of Set 12 | bracebridge\n",
      "Processing Record 32 of Set 12 | satitoa\n",
      "City not found. Skipping...\n",
      "Processing Record 33 of Set 12 | vidim\n",
      "Processing Record 34 of Set 12 | kontagora\n",
      "Processing Record 35 of Set 12 | viedma\n",
      "Processing Record 36 of Set 12 | ottawa\n",
      "Processing Record 37 of Set 12 | puerto quijarro\n",
      "Processing Record 38 of Set 12 | johi\n",
      "Processing Record 39 of Set 12 | priargunsk\n",
      "Processing Record 40 of Set 12 | pathein\n",
      "Processing Record 41 of Set 12 | galiwinku\n",
      "City not found. Skipping...\n",
      "Processing Record 42 of Set 12 | kapoeta\n",
      "Processing Record 43 of Set 12 | cabedelo\n",
      "Processing Record 44 of Set 12 | guisa\n",
      "Processing Record 45 of Set 12 | madrid\n",
      "Processing Record 46 of Set 12 | plano\n",
      "Processing Record 47 of Set 12 | port blair\n",
      "Processing Record 48 of Set 12 | pascagoula\n",
      "Processing Record 49 of Set 12 | skegness\n",
      "Processing Record 0 of Set 13 | puerto cortes\n",
      "City not found. Skipping...\n",
      "Processing Record 1 of Set 13 | abu jubayhah\n",
      "City not found. Skipping...\n",
      "Processing Record 2 of Set 13 | chivolo\n",
      "Processing Record 3 of Set 13 | neiafu\n",
      "Processing Record 4 of Set 13 | laerdalsoyri\n",
      "Processing Record 5 of Set 13 | avesta\n",
      "Processing Record 6 of Set 13 | deer lake\n",
      "Processing Record 7 of Set 13 | vostok\n",
      "Processing Record 8 of Set 13 | ryotsu\n",
      "Processing Record 9 of Set 13 | launceston\n",
      "Processing Record 10 of Set 13 | middle island\n",
      "Processing Record 11 of Set 13 | ust-maya\n",
      "Processing Record 12 of Set 13 | bima\n",
      "Processing Record 13 of Set 13 | bayan\n",
      "Processing Record 14 of Set 13 | uglegorsk\n",
      "-----------------------------\n",
      "Data Retrieval Complete      \n",
      "-----------------------------\n"
     ]
    }
   ],
   "source": [
    "# Set the API base URL\n",
    "base_url = \"http://api.openweathermap.org/data/2.5/weather?\"\n",
    "units = \"metric\"\n",
    "\n",
    "# Define an empty list to fetch the weather data for each city\n",
    "city_data = []\n",
    "\n",
    "# Print to logger\n",
    "print(\"Beginning Data Retrieval     \")\n",
    "print(\"-----------------------------\")\n",
    "\n",
    "# Create counters\n",
    "record_count = 1\n",
    "set_count = 1\n",
    "\n",
    "# Loop through all the cities in our list to fetch weather data\n",
    "for i, city in enumerate(cities):\n",
    "        \n",
    "    # Group cities in sets of 50 for logging purposes\n",
    "    if (i % 50 == 0 and i >= 50):\n",
    "        set_count += 1\n",
    "        record_count = 0\n",
    "\n",
    "    # Create endpoint URL with each city\n",
    "    city_url = base_url + \"&appid=\" + weather_api_key + \"&units=\" + units + \"&q=\" + city\n",
    "    \n",
    "    # Log the url, record, and set numbers\n",
    "    print(\"Processing Record %s of Set %s | %s\" % (record_count, set_count, city))\n",
    "\n",
    "    # Add 1 to the record count\n",
    "    record_count += 1\n",
    "\n",
    "    # Run an API request for each of the cities\n",
    "    try:\n",
    "        # Parse the JSON and retrieve data\n",
    "        city_weather = requests.get(city_url).json()\n",
    "# Parse out latitude, longitude, max temp, humidity, cloudiness, wind speed, country, and date\n",
    "        city_lat = city_weather['coord']['lat']\n",
    "        city_lng = city_weather['coord']['lon']\n",
    "        city_max_temp = city_weather['main']['temp_max']\n",
    "        city_humidity = city_weather['main']['humidity']\n",
    "        city_clouds = city_weather['clouds']['all']\n",
    "        city_wind = city_weather['wind']['speed']\n",
    "        city_country = city_weather['sys']['country']\n",
    "        city_date = city_weather['dt']\n",
    "\n",
    "        # Append the City information into city_data list\n",
    "        city_data.append({\"City\": city, \n",
    "                          \"Lat\": city_lat, \n",
    "                          \"Lng\": city_lng, \n",
    "                          \"Max Temp\": city_max_temp,\n",
    "                          \"Humidity\": city_humidity,\n",
    "                          \"Cloudiness\": city_clouds,\n",
    "                          \"Wind Speed\": city_wind,\n",
    "                          \"Country\": city_country,\n",
    "                          \"Date\": city_date})     \n",
    "\n",
    "    # If an error is experienced, skip the city\n",
    "    except:\n",
    "        print(\"City not found. Skipping...\")\n",
    "        pass\n",
    "              \n",
    "# Indicate that Data Loading is complete \n",
    "print(\"-----------------------------\")\n",
    "print(\"Data Retrieval Complete      \")\n",
    "print(\"-----------------------------\")"
   ]
  },
  {
   "cell_type": "code",
   "execution_count": 4,
   "metadata": {},
   "outputs": [
    {
     "data": {
      "text/plain": [
       "City          560\n",
       "Lat           560\n",
       "Lng           560\n",
       "Max Temp      560\n",
       "Humidity      560\n",
       "Cloudiness    560\n",
       "Wind Speed    560\n",
       "Country       560\n",
       "Date          560\n",
       "dtype: int64"
      ]
     },
     "execution_count": 4,
     "metadata": {},
     "output_type": "execute_result"
    }
   ],
   "source": [
    "# Convert the cities weather data into a Pandas DataFrame\n",
    "city_data_df = pd.DataFrame(city_data)\n",
    "\n",
    "# Show Record Count\n",
    "city_data_df.count()"
   ]
  },
  {
   "cell_type": "code",
   "execution_count": 5,
   "metadata": {},
   "outputs": [
    {
     "data": {
      "text/html": [
       "<div>\n",
       "<style scoped>\n",
       "    .dataframe tbody tr th:only-of-type {\n",
       "        vertical-align: middle;\n",
       "    }\n",
       "\n",
       "    .dataframe tbody tr th {\n",
       "        vertical-align: top;\n",
       "    }\n",
       "\n",
       "    .dataframe thead th {\n",
       "        text-align: right;\n",
       "    }\n",
       "</style>\n",
       "<table border=\"1\" class=\"dataframe\">\n",
       "  <thead>\n",
       "    <tr style=\"text-align: right;\">\n",
       "      <th></th>\n",
       "      <th>City</th>\n",
       "      <th>Lat</th>\n",
       "      <th>Lng</th>\n",
       "      <th>Max Temp</th>\n",
       "      <th>Humidity</th>\n",
       "      <th>Cloudiness</th>\n",
       "      <th>Wind Speed</th>\n",
       "      <th>Country</th>\n",
       "      <th>Date</th>\n",
       "    </tr>\n",
       "  </thead>\n",
       "  <tbody>\n",
       "    <tr>\n",
       "      <th>0</th>\n",
       "      <td>pevek</td>\n",
       "      <td>69.7008</td>\n",
       "      <td>170.3133</td>\n",
       "      <td>-17.98</td>\n",
       "      <td>99</td>\n",
       "      <td>14</td>\n",
       "      <td>1.52</td>\n",
       "      <td>RU</td>\n",
       "      <td>1667884516</td>\n",
       "    </tr>\n",
       "    <tr>\n",
       "      <th>1</th>\n",
       "      <td>flin flon</td>\n",
       "      <td>54.7682</td>\n",
       "      <td>-101.8650</td>\n",
       "      <td>-13.33</td>\n",
       "      <td>84</td>\n",
       "      <td>100</td>\n",
       "      <td>4.36</td>\n",
       "      <td>CA</td>\n",
       "      <td>1667884949</td>\n",
       "    </tr>\n",
       "    <tr>\n",
       "      <th>2</th>\n",
       "      <td>lebu</td>\n",
       "      <td>-37.6167</td>\n",
       "      <td>-73.6500</td>\n",
       "      <td>11.71</td>\n",
       "      <td>87</td>\n",
       "      <td>100</td>\n",
       "      <td>4.13</td>\n",
       "      <td>CL</td>\n",
       "      <td>1667884950</td>\n",
       "    </tr>\n",
       "    <tr>\n",
       "      <th>3</th>\n",
       "      <td>moissala</td>\n",
       "      <td>8.3404</td>\n",
       "      <td>17.7663</td>\n",
       "      <td>21.79</td>\n",
       "      <td>50</td>\n",
       "      <td>89</td>\n",
       "      <td>0.87</td>\n",
       "      <td>TD</td>\n",
       "      <td>1667884950</td>\n",
       "    </tr>\n",
       "    <tr>\n",
       "      <th>4</th>\n",
       "      <td>bethel</td>\n",
       "      <td>41.3712</td>\n",
       "      <td>-73.4140</td>\n",
       "      <td>11.05</td>\n",
       "      <td>54</td>\n",
       "      <td>0</td>\n",
       "      <td>3.09</td>\n",
       "      <td>US</td>\n",
       "      <td>1667884950</td>\n",
       "    </tr>\n",
       "  </tbody>\n",
       "</table>\n",
       "</div>"
      ],
      "text/plain": [
       "        City      Lat       Lng  Max Temp  Humidity  Cloudiness  Wind Speed  \\\n",
       "0      pevek  69.7008  170.3133    -17.98        99          14        1.52   \n",
       "1  flin flon  54.7682 -101.8650    -13.33        84         100        4.36   \n",
       "2       lebu -37.6167  -73.6500     11.71        87         100        4.13   \n",
       "3   moissala   8.3404   17.7663     21.79        50          89        0.87   \n",
       "4     bethel  41.3712  -73.4140     11.05        54           0        3.09   \n",
       "\n",
       "  Country        Date  \n",
       "0      RU  1667884516  \n",
       "1      CA  1667884949  \n",
       "2      CL  1667884950  \n",
       "3      TD  1667884950  \n",
       "4      US  1667884950  "
      ]
     },
     "execution_count": 5,
     "metadata": {},
     "output_type": "execute_result"
    }
   ],
   "source": [
    "# Display sample data\n",
    "city_data_df.head()"
   ]
  },
  {
   "cell_type": "code",
   "execution_count": 6,
   "metadata": {},
   "outputs": [],
   "source": [
    "# Export the City_Data into a csv\n",
    "city_data_df.to_csv(\"outputdata/cities.csv\", index_label=\"City_ID\")"
   ]
  },
  {
   "cell_type": "code",
   "execution_count": 7,
   "metadata": {
    "scrolled": true
   },
   "outputs": [
    {
     "data": {
      "text/html": [
       "<div>\n",
       "<style scoped>\n",
       "    .dataframe tbody tr th:only-of-type {\n",
       "        vertical-align: middle;\n",
       "    }\n",
       "\n",
       "    .dataframe tbody tr th {\n",
       "        vertical-align: top;\n",
       "    }\n",
       "\n",
       "    .dataframe thead th {\n",
       "        text-align: right;\n",
       "    }\n",
       "</style>\n",
       "<table border=\"1\" class=\"dataframe\">\n",
       "  <thead>\n",
       "    <tr style=\"text-align: right;\">\n",
       "      <th></th>\n",
       "      <th>City</th>\n",
       "      <th>Lat</th>\n",
       "      <th>Lng</th>\n",
       "      <th>Max Temp</th>\n",
       "      <th>Humidity</th>\n",
       "      <th>Cloudiness</th>\n",
       "      <th>Wind Speed</th>\n",
       "      <th>Country</th>\n",
       "      <th>Date</th>\n",
       "    </tr>\n",
       "    <tr>\n",
       "      <th>City_ID</th>\n",
       "      <th></th>\n",
       "      <th></th>\n",
       "      <th></th>\n",
       "      <th></th>\n",
       "      <th></th>\n",
       "      <th></th>\n",
       "      <th></th>\n",
       "      <th></th>\n",
       "      <th></th>\n",
       "    </tr>\n",
       "  </thead>\n",
       "  <tbody>\n",
       "    <tr>\n",
       "      <th>0</th>\n",
       "      <td>pevek</td>\n",
       "      <td>69.7008</td>\n",
       "      <td>170.3133</td>\n",
       "      <td>-17.98</td>\n",
       "      <td>99</td>\n",
       "      <td>14</td>\n",
       "      <td>1.52</td>\n",
       "      <td>RU</td>\n",
       "      <td>1667884516</td>\n",
       "    </tr>\n",
       "    <tr>\n",
       "      <th>1</th>\n",
       "      <td>flin flon</td>\n",
       "      <td>54.7682</td>\n",
       "      <td>-101.8650</td>\n",
       "      <td>-13.33</td>\n",
       "      <td>84</td>\n",
       "      <td>100</td>\n",
       "      <td>4.36</td>\n",
       "      <td>CA</td>\n",
       "      <td>1667884949</td>\n",
       "    </tr>\n",
       "    <tr>\n",
       "      <th>2</th>\n",
       "      <td>lebu</td>\n",
       "      <td>-37.6167</td>\n",
       "      <td>-73.6500</td>\n",
       "      <td>11.71</td>\n",
       "      <td>87</td>\n",
       "      <td>100</td>\n",
       "      <td>4.13</td>\n",
       "      <td>CL</td>\n",
       "      <td>1667884950</td>\n",
       "    </tr>\n",
       "    <tr>\n",
       "      <th>3</th>\n",
       "      <td>moissala</td>\n",
       "      <td>8.3404</td>\n",
       "      <td>17.7663</td>\n",
       "      <td>21.79</td>\n",
       "      <td>50</td>\n",
       "      <td>89</td>\n",
       "      <td>0.87</td>\n",
       "      <td>TD</td>\n",
       "      <td>1667884950</td>\n",
       "    </tr>\n",
       "    <tr>\n",
       "      <th>4</th>\n",
       "      <td>bethel</td>\n",
       "      <td>41.3712</td>\n",
       "      <td>-73.4140</td>\n",
       "      <td>11.05</td>\n",
       "      <td>54</td>\n",
       "      <td>0</td>\n",
       "      <td>3.09</td>\n",
       "      <td>US</td>\n",
       "      <td>1667884950</td>\n",
       "    </tr>\n",
       "  </tbody>\n",
       "</table>\n",
       "</div>"
      ],
      "text/plain": [
       "              City      Lat       Lng  Max Temp  Humidity  Cloudiness  \\\n",
       "City_ID                                                                 \n",
       "0            pevek  69.7008  170.3133    -17.98        99          14   \n",
       "1        flin flon  54.7682 -101.8650    -13.33        84         100   \n",
       "2             lebu -37.6167  -73.6500     11.71        87         100   \n",
       "3         moissala   8.3404   17.7663     21.79        50          89   \n",
       "4           bethel  41.3712  -73.4140     11.05        54           0   \n",
       "\n",
       "         Wind Speed Country        Date  \n",
       "City_ID                                  \n",
       "0              1.52      RU  1667884516  \n",
       "1              4.36      CA  1667884949  \n",
       "2              4.13      CL  1667884950  \n",
       "3              0.87      TD  1667884950  \n",
       "4              3.09      US  1667884950  "
      ]
     },
     "execution_count": 7,
     "metadata": {},
     "output_type": "execute_result"
    }
   ],
   "source": [
    "# Read saved data\n",
    "city_data_df = pd.read_csv(\"outputdata/cities.csv\", index_col=\"City_ID\")\n",
    "\n",
    "# Display sample data\n",
    "city_data_df.head()"
   ]
  },
  {
   "cell_type": "markdown",
   "metadata": {},
   "source": [
    "# Create Scatter plots requested"
   ]
  },
  {
   "cell_type": "code",
   "execution_count": 8,
   "metadata": {},
   "outputs": [],
   "source": [
    "# Setting Variables for plotting\n",
    "latinfo = city_data_df[\"Lat\"]\n",
    "maxtempinfo = city_data_df[\"Max Temp\"]\n",
    "huminfo = city_data_df[\"Humidity\"]\n",
    "cloudinfo = city_data_df[\"Cloudiness\"]\n",
    "windspeedinfo = city_data_df[\"Wind Speed\"]"
   ]
  },
  {
   "cell_type": "markdown",
   "metadata": {},
   "source": [
    " Latitude vs Temperature"
   ]
  },
  {
   "cell_type": "code",
   "execution_count": 9,
   "metadata": {},
   "outputs": [
    {
     "data": {
      "image/png": "[encoded data removed]",
      "text/plain": [
       "<Figure size 432x288 with 1 Axes>"
      ]
     },
     "metadata": {
      "needs_background": "light"
     },
     "output_type": "display_data"
    }
   ],
   "source": [
    "# Build the scatter plot for Latitude vs Temperature\n",
    "plt.scatter(latinfo, maxtempinfo, marker=\"o\", facecolors=\"lightblue\", edgecolors=\"black\", s=45, alpha=0.75)\n",
    "\n",
    "# Incorporate the other graph properties\n",
    "plt.title(f\"City Max Latitude vs Max Temperature ({datetime.now():%y-%m-%d})\")\n",
    "plt.xlabel(\"Latitude\")\n",
    "plt.ylabel(\"Max Temperature (C)\")\n",
    "\n",
    "# Set a grid on the plot\n",
    "plt.grid()\n",
    "\n",
    "# Save Figure\n",
    "plt.savefig(\"outputdata/LatvsTemp.png\")\n",
    "\n",
    "# Show plot\n",
    "plt.show()"
   ]
  },
  {
   "cell_type": "markdown",
   "metadata": {},
   "source": [
    "Latitude vs Humidity"
   ]
  },
  {
   "cell_type": "code",
   "execution_count": 10,
   "metadata": {},
   "outputs": [
    {
     "data": {
      "image/png": "[encoded data removed]",
      "text/plain": [
       "<Figure size 432x288 with 1 Axes>"
      ]
     },
     "metadata": {
      "needs_background": "light"
     },
     "output_type": "display_data"
    }
   ],
   "source": [
    "# Build the scatter plots for latitude vs. humidity\n",
    "plt.scatter(latinfo, huminfo, marker=\"o\", facecolors=\"lightblue\", edgecolors=\"black\", s=45, alpha=0.75)\n",
    "\n",
    "# Incorporate the other graph properties\n",
    "plt.title(f\"City Latitude vs Humidity ({datetime.now():%y-%m-%d})\")\n",
    "plt.xlabel(\"Latitude\")\n",
    "plt.ylabel(\"Humidity (%)\")\n",
    "\n",
    "# Set a grid on the plot\n",
    "plt.grid()\n",
    "\n",
    "# Save the figure\n",
    "plt.savefig(\"outputdata/LatvsHumidity.png\")\n",
    "\n",
    "# Show plot\n",
    "plt.show()"
   ]
  },
  {
   "cell_type": "markdown",
   "metadata": {},
   "source": [
    "Latitude vs Cloudiness"
   ]
  },
  {
   "cell_type": "code",
   "execution_count": 11,
   "metadata": {},
   "outputs": [
    {
     "data": {
      "image/png": "[encoded data removed]",
      "text/plain": [
       "<Figure size 432x288 with 1 Axes>"
      ]
     },
     "metadata": {
      "needs_background": "light"
     },
     "output_type": "display_data"
    }
   ],
   "source": [
    "# Build the scatter plots for latitude vs. cloudiness\n",
    "plt.scatter(latinfo, cloudinfo, marker=\"o\", facecolors=\"lightblue\", edgecolors=\"black\", s=45, alpha=0.75)\n",
    "\n",
    "# Incorporate the other graph properties\n",
    "plt.title(f\"City Latitude vs Cloudiness ({datetime.now():%y-%m-%d})\")\n",
    "plt.xlabel(\"Latitude\")\n",
    "plt.ylabel(\"Cloudiness (%)\")\n",
    "\n",
    "# Set a grid on the plot\n",
    "plt.grid()\n",
    "\n",
    "# Save the figure\n",
    "plt.savefig(\"outputdata/LatvsCloudiness.png\")\n",
    "\n",
    "# Show plot\n",
    "plt.show()"
   ]
  },
  {
   "cell_type": "markdown",
   "metadata": {},
   "source": [
    "Latitude vs Wind Speed"
   ]
  },
  {
   "cell_type": "code",
   "execution_count": 12,
   "metadata": {},
   "outputs": [
    {
     "data": {
      "image/png": "[encoded data removed]",
      "text/plain": [
       "<Figure size 432x288 with 1 Axes>"
      ]
     },
     "metadata": {
      "needs_background": "light"
     },
     "output_type": "display_data"
    }
   ],
   "source": [
    "# Build the scatter plots for latitude vs. wind speed\n",
    "plt.scatter(latinfo, windspeedinfo, marker=\"o\", facecolors=\"lightblue\", edgecolors=\"black\", s=45, alpha=0.75)\n",
    "\n",
    "# Incorporate the other graph properties\n",
    "plt.title(f\"City Latitude vs Wind Speed ({datetime.now():%y-%m-%d})\")\n",
    "plt.xlabel(\"Latitude\")\n",
    "plt.ylabel(\"Wind Speed (m/s)\")\n",
    "\n",
    "# Set a grid on the plot\n",
    "plt.grid()\n",
    "\n",
    "# Save the figure\n",
    "plt.savefig(\"outputdata/LatvsWindSpeed.png\")\n",
    "\n",
    "# Show plot\n",
    "plt.show()"
   ]
  },
  {
   "cell_type": "markdown",
   "metadata": {},
   "source": [
    "# Compute linear regression for each relationship"
   ]
  },
  {
   "cell_type": "code",
   "execution_count": 13,
   "metadata": {},
   "outputs": [
    {
     "data": {
      "text/html": [
       "<div>\n",
       "<style scoped>\n",
       "    .dataframe tbody tr th:only-of-type {\n",
       "        vertical-align: middle;\n",
       "    }\n",
       "\n",
       "    .dataframe tbody tr th {\n",
       "        vertical-align: top;\n",
       "    }\n",
       "\n",
       "    .dataframe thead th {\n",
       "        text-align: right;\n",
       "    }\n",
       "</style>\n",
       "<table border=\"1\" class=\"dataframe\">\n",
       "  <thead>\n",
       "    <tr style=\"text-align: right;\">\n",
       "      <th></th>\n",
       "      <th>City</th>\n",
       "      <th>Lat</th>\n",
       "      <th>Lng</th>\n",
       "      <th>Max Temp</th>\n",
       "      <th>Humidity</th>\n",
       "      <th>Cloudiness</th>\n",
       "      <th>Wind Speed</th>\n",
       "      <th>Country</th>\n",
       "      <th>Date</th>\n",
       "    </tr>\n",
       "    <tr>\n",
       "      <th>City_ID</th>\n",
       "      <th></th>\n",
       "      <th></th>\n",
       "      <th></th>\n",
       "      <th></th>\n",
       "      <th></th>\n",
       "      <th></th>\n",
       "      <th></th>\n",
       "      <th></th>\n",
       "      <th></th>\n",
       "    </tr>\n",
       "  </thead>\n",
       "  <tbody>\n",
       "    <tr>\n",
       "      <th>0</th>\n",
       "      <td>pevek</td>\n",
       "      <td>69.7008</td>\n",
       "      <td>170.3133</td>\n",
       "      <td>-17.98</td>\n",
       "      <td>99</td>\n",
       "      <td>14</td>\n",
       "      <td>1.52</td>\n",
       "      <td>RU</td>\n",
       "      <td>1667884516</td>\n",
       "    </tr>\n",
       "    <tr>\n",
       "      <th>1</th>\n",
       "      <td>flin flon</td>\n",
       "      <td>54.7682</td>\n",
       "      <td>-101.8650</td>\n",
       "      <td>-13.33</td>\n",
       "      <td>84</td>\n",
       "      <td>100</td>\n",
       "      <td>4.36</td>\n",
       "      <td>CA</td>\n",
       "      <td>1667884949</td>\n",
       "    </tr>\n",
       "    <tr>\n",
       "      <th>3</th>\n",
       "      <td>moissala</td>\n",
       "      <td>8.3404</td>\n",
       "      <td>17.7663</td>\n",
       "      <td>21.79</td>\n",
       "      <td>50</td>\n",
       "      <td>89</td>\n",
       "      <td>0.87</td>\n",
       "      <td>TD</td>\n",
       "      <td>1667884950</td>\n",
       "    </tr>\n",
       "    <tr>\n",
       "      <th>4</th>\n",
       "      <td>bethel</td>\n",
       "      <td>41.3712</td>\n",
       "      <td>-73.4140</td>\n",
       "      <td>11.05</td>\n",
       "      <td>54</td>\n",
       "      <td>0</td>\n",
       "      <td>3.09</td>\n",
       "      <td>US</td>\n",
       "      <td>1667884950</td>\n",
       "    </tr>\n",
       "    <tr>\n",
       "      <th>6</th>\n",
       "      <td>naze</td>\n",
       "      <td>28.3667</td>\n",
       "      <td>129.4833</td>\n",
       "      <td>23.51</td>\n",
       "      <td>59</td>\n",
       "      <td>4</td>\n",
       "      <td>4.06</td>\n",
       "      <td>JP</td>\n",
       "      <td>1667884951</td>\n",
       "    </tr>\n",
       "  </tbody>\n",
       "</table>\n",
       "</div>"
      ],
      "text/plain": [
       "              City      Lat       Lng  Max Temp  Humidity  Cloudiness  \\\n",
       "City_ID                                                                 \n",
       "0            pevek  69.7008  170.3133    -17.98        99          14   \n",
       "1        flin flon  54.7682 -101.8650    -13.33        84         100   \n",
       "3         moissala   8.3404   17.7663     21.79        50          89   \n",
       "4           bethel  41.3712  -73.4140     11.05        54           0   \n",
       "6             naze  28.3667  129.4833     23.51        59           4   \n",
       "\n",
       "         Wind Speed Country        Date  \n",
       "City_ID                                  \n",
       "0              1.52      RU  1667884516  \n",
       "1              4.36      CA  1667884949  \n",
       "3              0.87      TD  1667884950  \n",
       "4              3.09      US  1667884950  \n",
       "6              4.06      JP  1667884951  "
      ]
     },
     "execution_count": 13,
     "metadata": {},
     "output_type": "execute_result"
    }
   ],
   "source": [
    "# Create a DataFrame with the Northern Hemisphere data (Latitude >= 0)\n",
    "northern_hemi_df = city_data_df.loc[city_data_df[\"Lat\"] >= 0,:]\n",
    "\n",
    "# Display sample data\n",
    "northern_hemi_df.head()"
   ]
  },
  {
   "cell_type": "code",
   "execution_count": 14,
   "metadata": {},
   "outputs": [
    {
     "data": {
      "text/html": [
       "<div>\n",
       "<style scoped>\n",
       "    .dataframe tbody tr th:only-of-type {\n",
       "        vertical-align: middle;\n",
       "    }\n",
       "\n",
       "    .dataframe tbody tr th {\n",
       "        vertical-align: top;\n",
       "    }\n",
       "\n",
       "    .dataframe thead th {\n",
       "        text-align: right;\n",
       "    }\n",
       "</style>\n",
       "<table border=\"1\" class=\"dataframe\">\n",
       "  <thead>\n",
       "    <tr style=\"text-align: right;\">\n",
       "      <th></th>\n",
       "      <th>City</th>\n",
       "      <th>Lat</th>\n",
       "      <th>Lng</th>\n",
       "      <th>Max Temp</th>\n",
       "      <th>Humidity</th>\n",
       "      <th>Cloudiness</th>\n",
       "      <th>Wind Speed</th>\n",
       "      <th>Country</th>\n",
       "      <th>Date</th>\n",
       "    </tr>\n",
       "    <tr>\n",
       "      <th>City_ID</th>\n",
       "      <th></th>\n",
       "      <th></th>\n",
       "      <th></th>\n",
       "      <th></th>\n",
       "      <th></th>\n",
       "      <th></th>\n",
       "      <th></th>\n",
       "      <th></th>\n",
       "      <th></th>\n",
       "    </tr>\n",
       "  </thead>\n",
       "  <tbody>\n",
       "    <tr>\n",
       "      <th>2</th>\n",
       "      <td>lebu</td>\n",
       "      <td>-37.6167</td>\n",
       "      <td>-73.6500</td>\n",
       "      <td>11.71</td>\n",
       "      <td>87</td>\n",
       "      <td>100</td>\n",
       "      <td>4.13</td>\n",
       "      <td>CL</td>\n",
       "      <td>1667884950</td>\n",
       "    </tr>\n",
       "    <tr>\n",
       "      <th>5</th>\n",
       "      <td>vaini</td>\n",
       "      <td>-21.2000</td>\n",
       "      <td>-175.2000</td>\n",
       "      <td>26.09</td>\n",
       "      <td>73</td>\n",
       "      <td>20</td>\n",
       "      <td>3.60</td>\n",
       "      <td>TO</td>\n",
       "      <td>1667884951</td>\n",
       "    </tr>\n",
       "    <tr>\n",
       "      <th>7</th>\n",
       "      <td>port hedland</td>\n",
       "      <td>-20.3167</td>\n",
       "      <td>118.5667</td>\n",
       "      <td>28.03</td>\n",
       "      <td>39</td>\n",
       "      <td>0</td>\n",
       "      <td>9.77</td>\n",
       "      <td>AU</td>\n",
       "      <td>1667884952</td>\n",
       "    </tr>\n",
       "    <tr>\n",
       "      <th>9</th>\n",
       "      <td>pisco</td>\n",
       "      <td>-13.7000</td>\n",
       "      <td>-76.2167</td>\n",
       "      <td>16.12</td>\n",
       "      <td>82</td>\n",
       "      <td>0</td>\n",
       "      <td>1.03</td>\n",
       "      <td>PE</td>\n",
       "      <td>1667884372</td>\n",
       "    </tr>\n",
       "    <tr>\n",
       "      <th>10</th>\n",
       "      <td>hithadhoo</td>\n",
       "      <td>-0.6000</td>\n",
       "      <td>73.0833</td>\n",
       "      <td>28.16</td>\n",
       "      <td>73</td>\n",
       "      <td>26</td>\n",
       "      <td>7.63</td>\n",
       "      <td>MV</td>\n",
       "      <td>1667884355</td>\n",
       "    </tr>\n",
       "  </tbody>\n",
       "</table>\n",
       "</div>"
      ],
      "text/plain": [
       "                 City      Lat       Lng  Max Temp  Humidity  Cloudiness  \\\n",
       "City_ID                                                                    \n",
       "2                lebu -37.6167  -73.6500     11.71        87         100   \n",
       "5               vaini -21.2000 -175.2000     26.09        73          20   \n",
       "7        port hedland -20.3167  118.5667     28.03        39           0   \n",
       "9               pisco -13.7000  -76.2167     16.12        82           0   \n",
       "10          hithadhoo  -0.6000   73.0833     28.16        73          26   \n",
       "\n",
       "         Wind Speed Country        Date  \n",
       "City_ID                                  \n",
       "2              4.13      CL  1667884950  \n",
       "5              3.60      TO  1667884951  \n",
       "7              9.77      AU  1667884952  \n",
       "9              1.03      PE  1667884372  \n",
       "10             7.63      MV  1667884355  "
      ]
     },
     "execution_count": 14,
     "metadata": {},
     "output_type": "execute_result"
    }
   ],
   "source": [
    "# Create a DataFrame with the Southern Hemisphere data (Latitude < 0)\n",
    "southern_hemi_df = city_data_df.loc[city_data_df[\"Lat\"] < 0,:]\n",
    "\n",
    "# Display sample data\n",
    "southern_hemi_df.head()"
   ]
  },
  {
   "cell_type": "markdown",
   "metadata": {},
   "source": [
    "# Temperature vs Latitude Linear Regression plot"
   ]
  },
  {
   "cell_type": "code",
   "execution_count": 17,
   "metadata": {},
   "outputs": [
    {
     "name": "stdout",
     "output_type": "stream",
     "text": [
      "City_ID\n",
      "0      -7.532036\n",
      "1       1.295964\n",
      "3      28.743603\n",
      "4       9.216133\n",
      "6      16.904260\n",
      "         ...    \n",
      "553    11.159906\n",
      "555     9.503983\n",
      "556    -2.043371\n",
      "558     6.430388\n",
      "559     4.656818\n",
      "Name: Lat, Length: 396, dtype: float64\n"
     ]
    }
   ],
   "source": [
    "# Linear regression on Northern Hemisphere\n",
    "x_valuesnorth = northern_hemi_df['Lat']\n",
    "y_valuesnorth = northern_hemi_df['Max Temp']\n",
    "# Define a function to create Linear Regression plots\n",
    "(slope, intercept, rvalue, pvalue, stderr) = stats.linregress(x_valuesnorth, y_valuesnorth)\n",
    "\n",
    "# Get regression values\n",
    "regress_values_north = x_valuesnorth * slope + intercept\n",
    "print(regress_values_north)"
   ]
  },
  {
   "cell_type": "code",
   "execution_count": 18,
   "metadata": {},
   "outputs": [
    {
     "name": "stdout",
     "output_type": "stream",
     "text": [
      "y = -0.59x +33.67\n"
     ]
    }
   ],
   "source": [
    "line_eqnh = \"y = \" + str(round(slope,2)) + \"x +\" + str(round(intercept,2))\n",
    "print(line_eqnh)"
   ]
  },
  {
   "cell_type": "code",
   "execution_count": 21,
   "metadata": {},
   "outputs": [
    {
     "name": "stdout",
     "output_type": "stream",
     "text": [
      "The r-value is: 0.2106260638701991\n"
     ]
    },
    {
     "data": {
      "image/png": "[encoded data removed]",
      "text/plain": [
       "<Figure size 432x288 with 1 Axes>"
      ]
     },
     "metadata": {
      "needs_background": "light"
     },
     "output_type": "display_data"
    }
   ],
   "source": [
    "# Create Plot\n",
    "plt.scatter(x_valuesnorth,y_valuesnorth)\n",
    "plt.plot(x_valuesnorth,regress_values_north,\"r-\")\n",
    "\n",
    "# Label plot and annotate the line equation\n",
    "plt.xlabel('Latitude')\n",
    "plt.ylabel('Temperature')\n",
    "plt.annotate(line_eqnh,(0,-20),fontsize=15,color=\"green\")\n",
    "\n",
    "# Save Figure\n",
    "plt.savefig(\"outputdata/NorthLatvsTempLinReg.png\")\n",
    "\n",
    "# Print r value\n",
    "print(f\"The r-value is: {rvalue**2}\")\n",
    "\n",
    "# Show plot\n",
    "plt.show()"
   ]
  },
  {
   "cell_type": "code",
   "execution_count": 22,
   "metadata": {},
   "outputs": [
    {
     "name": "stdout",
     "output_type": "stream",
     "text": [
      "City_ID\n",
      "2      18.538095\n",
      "5      22.021222\n",
      "7      22.208632\n",
      "9      23.612495\n",
      "10     26.391919\n",
      "         ...    \n",
      "535    22.746143\n",
      "540    25.038043\n",
      "548    22.562255\n",
      "554    17.724784\n",
      "557    24.722843\n",
      "Name: Lat, Length: 164, dtype: float64\n"
     ]
    }
   ],
   "source": [
    "# Linear regression on Southern Hemisphere\n",
    "x_valuessouth = southern_hemi_df['Lat']\n",
    "y_valuessouth = southern_hemi_df['Max Temp']\n",
    "# Define a function to create Linear Regression plots\n",
    "(slope, intercept, rvalue, pvalue, stderr) = stats.linregress(x_valuessouth, y_valuessouth)\n",
    "\n",
    "# Get regression values\n",
    "regress_values_south = x_valuessouth * slope + intercept\n",
    "print(regress_values_south)"
   ]
  },
  {
   "cell_type": "code",
   "execution_count": 24,
   "metadata": {},
   "outputs": [
    {
     "name": "stdout",
     "output_type": "stream",
     "text": [
      "y = 0.21x +26.52\n"
     ]
    }
   ],
   "source": [
    "line_eqsh = \"y = \" + str(round(slope,2)) + \"x +\" + str(round(intercept,2))\n",
    "print(line_eqsh)"
   ]
  },
  {
   "cell_type": "code",
   "execution_count": 25,
   "metadata": {},
   "outputs": [
    {
     "name": "stdout",
     "output_type": "stream",
     "text": [
      "The r-value is: 0.2106260638701991\n"
     ]
    },
    {
     "data": {
      "image/png": "[encoded data removed]",
      "text/plain": [
       "<Figure size 432x288 with 1 Axes>"
      ]
     },
     "metadata": {
      "needs_background": "light"
     },
     "output_type": "display_data"
    }
   ],
   "source": [
    "# Create Plot\n",
    "plt.scatter(x_valuessouth,y_valuessouth)\n",
    "plt.plot(x_valuessouth,regress_values_south,\"r-\")\n",
    "\n",
    "# Label plot and annotate the line equation\n",
    "plt.xlabel('Latitude')\n",
    "plt.ylabel('Temperature')\n",
    "plt.annotate(line_eqsh,(-25,10),fontsize=15,color=\"red\")\n",
    "\n",
    "# Save Figure\n",
    "plt.savefig(\"outputdata/SouthLatvsTempLinReg.png\")\n",
    "\n",
    "# Print r value\n",
    "print(f\"The r-value is: {rvalue**2}\")\n",
    "\n",
    "# Show plot\n",
    "plt.show()"
   ]
  },
  {
   "cell_type": "markdown",
   "metadata": {},
   "source": [
    "# Humidity vs. Latitude Linear Regression Plot"
   ]
  },
  {
   "cell_type": "code",
   "execution_count": 26,
   "metadata": {},
   "outputs": [
    {
     "name": "stdout",
     "output_type": "stream",
     "text": [
      "City_ID\n",
      "0      85.229097\n",
      "1      79.771885\n",
      "3      62.804554\n",
      "4      74.875867\n",
      "6      70.123291\n",
      "         ...    \n",
      "553    73.674283\n",
      "555    74.697926\n",
      "556    81.836164\n",
      "558    76.597934\n",
      "559    77.694302\n",
      "Name: Lat, Length: 396, dtype: float64\n"
     ]
    }
   ],
   "source": [
    "# Linear regression on Northern Hemisphere\n",
    "x_valnorthhum = northern_hemi_df['Lat']\n",
    "y_valnorthhum = northern_hemi_df['Humidity']\n",
    "# Define a function to create Linear Regression plots\n",
    "(slope, intercept, rvalue, pvalue, stderr) = stats.linregress(x_valnorthhum, y_valnorthhum)\n",
    "\n",
    "# Get regression values\n",
    "regress_values_northhum = x_valnorthhum * slope + intercept\n",
    "print(regress_values_northhum)"
   ]
  },
  {
   "cell_type": "code",
   "execution_count": 27,
   "metadata": {},
   "outputs": [
    {
     "name": "stdout",
     "output_type": "stream",
     "text": [
      "y = 0.37x +59.76\n"
     ]
    }
   ],
   "source": [
    "line_eqnhl = \"y = \" + str(round(slope,2)) + \"x +\" + str(round(intercept,2))\n",
    "print(line_eqnhl)"
   ]
  },
  {
   "cell_type": "code",
   "execution_count": 28,
   "metadata": {},
   "outputs": [
    {
     "name": "stdout",
     "output_type": "stream",
     "text": [
      "The r-value is: 0.12544937983892712\n"
     ]
    },
    {
     "data": {
      "image/png": "[encoded data removed]",
      "text/plain": [
       "<Figure size 432x288 with 1 Axes>"
      ]
     },
     "metadata": {
      "needs_background": "light"
     },
     "output_type": "display_data"
    }
   ],
   "source": [
    "# Create Plot\n",
    "plt.scatter(x_valnorthhum,y_valnorthhum)\n",
    "plt.plot(x_valnorthhum,regress_values_northhum,\"r-\")\n",
    "\n",
    "# Label plot and annotate the line equation\n",
    "plt.xlabel('Latitude')\n",
    "plt.ylabel('Humidity')\n",
    "plt.annotate(line_eqnhl,(45,20),fontsize=15,color=\"red\")\n",
    "\n",
    "# Save Figure\n",
    "plt.savefig(\"outputdata/NorthLatvsHumidityLinReg.png\")\n",
    "\n",
    "# Print r value\n",
    "print(f\"The r-value is: {rvalue**2}\")\n",
    "\n",
    "# Show plot\n",
    "plt.show()"
   ]
  },
  {
   "cell_type": "code",
   "execution_count": 29,
   "metadata": {},
   "outputs": [
    {
     "name": "stdout",
     "output_type": "stream",
     "text": [
      "City_ID\n",
      "2      63.257967\n",
      "5      70.144318\n",
      "7      70.514838\n",
      "9      73.290361\n",
      "10     78.785449\n",
      "         ...    \n",
      "535    71.577529\n",
      "540    76.108754\n",
      "548    71.213973\n",
      "554    61.650003\n",
      "557    75.485586\n",
      "Name: Lat, Length: 164, dtype: float64\n"
     ]
    }
   ],
   "source": [
    "# Linear regression on Southern Hemisphere\n",
    "x_valsouthhum = southern_hemi_df['Lat']\n",
    "y_valsouthhum = southern_hemi_df['Humidity']\n",
    "# Define a function to create Linear Regression plots\n",
    "(slope, intercept, rvalue, pvalue, stderr) = stats.linregress(x_valsouthhum, y_valsouthhum)\n",
    "\n",
    "# Get regression values\n",
    "regress_values_southhum = x_valsouthhum * slope + intercept\n",
    "print(regress_values_southhum)"
   ]
  },
  {
   "cell_type": "code",
   "execution_count": 30,
   "metadata": {},
   "outputs": [
    {
     "name": "stdout",
     "output_type": "stream",
     "text": [
      "y = 0.42x +79.04\n"
     ]
    }
   ],
   "source": [
    "line_eqshl = \"y = \" + str(round(slope,2)) + \"x +\" + str(round(intercept,2))\n",
    "print(line_eqshl)"
   ]
  },
  {
   "cell_type": "code",
   "execution_count": 31,
   "metadata": {},
   "outputs": [
    {
     "name": "stdout",
     "output_type": "stream",
     "text": [
      "The r-value is: 0.08230515439186337\n"
     ]
    },
    {
     "data": {
      "image/png": "[encoded data removed]",
      "text/plain": [
       "<Figure size 432x288 with 1 Axes>"
      ]
     },
     "metadata": {
      "needs_background": "light"
     },
     "output_type": "display_data"
    }
   ],
   "source": [
    "# Southern Hemisphere\n",
    "# Create Plot\n",
    "plt.scatter(x_valsouthhum,y_valsouthhum)\n",
    "plt.plot(x_valsouthhum,regress_values_southhum,\"r-\")\n",
    "\n",
    "# Label plot and annotate the line equation\n",
    "plt.xlabel('Latitude')\n",
    "plt.ylabel('Humidity')\n",
    "plt.annotate(line_eqshl,(-55,10),fontsize=15,color=\"red\")\n",
    "\n",
    "# Save Figure\n",
    "plt.savefig(\"outputdata/SouthLatvsHumidityLinReg.png\")\n",
    "\n",
    "# Print r value\n",
    "print(f\"The r-value is: {rvalue**2}\")\n",
    "\n",
    "# Show plot\n",
    "plt.show()"
   ]
  },
  {
   "cell_type": "markdown",
   "metadata": {},
   "source": [
    "# Cloudiness vs. Latitude Linear Regression Plot"
   ]
  },
  {
   "cell_type": "code",
   "execution_count": 32,
   "metadata": {},
   "outputs": [
    {
     "name": "stdout",
     "output_type": "stream",
     "text": [
      "City_ID\n",
      "0      78.963088\n",
      "1      71.247044\n",
      "3      47.256650\n",
      "4      64.324483\n",
      "6      57.604735\n",
      "         ...    \n",
      "553    62.625543\n",
      "555    64.072889\n",
      "556    74.165764\n",
      "558    66.759341\n",
      "559    68.309516\n",
      "Name: Lat, Length: 396, dtype: float64\n"
     ]
    }
   ],
   "source": [
    "# Northern Hemisphere\n",
    "# Linear regression on Northern Hemisphere\n",
    "x_valnorthcld = northern_hemi_df['Lat']\n",
    "y_valnorthcld = northern_hemi_df['Cloudiness']\n",
    "# Define a function to create Linear Regression plots\n",
    "(slope, intercept, rvalue, pvalue, stderr) = stats.linregress(x_valnorthcld, y_valnorthcld)\n",
    "\n",
    "# Get regression values\n",
    "regress_values_northcld = x_valnorthcld * slope + intercept\n",
    "print(regress_values_northcld)"
   ]
  },
  {
   "cell_type": "code",
   "execution_count": 33,
   "metadata": {},
   "outputs": [
    {
     "name": "stdout",
     "output_type": "stream",
     "text": [
      "y = 0.52x +42.95\n"
     ]
    }
   ],
   "source": [
    "line_eqnc = \"y = \" + str(round(slope,2)) + \"x +\" + str(round(intercept,2))\n",
    "print(line_eqnc)"
   ]
  },
  {
   "cell_type": "code",
   "execution_count": 35,
   "metadata": {},
   "outputs": [
    {
     "name": "stdout",
     "output_type": "stream",
     "text": [
      "The r-value is: 0.06795247531637776\n"
     ]
    },
    {
     "data": {
      "image/png": "[encoded data removed]",
      "text/plain": [
       "<Figure size 432x288 with 1 Axes>"
      ]
     },
     "metadata": {
      "needs_background": "light"
     },
     "output_type": "display_data"
    }
   ],
   "source": [
    "# Create Plot\n",
    "plt.scatter(x_valnorthcld,y_valnorthcld)\n",
    "plt.plot(x_valnorthcld,regress_values_northcld,\"r-\")\n",
    "\n",
    "# Label plot and annotate the line equation\n",
    "plt.xlabel('Latitude')\n",
    "plt.ylabel('Cloudiness')\n",
    "plt.annotate(line_eqnc,(45,10),fontsize=15,color=\"red\")\n",
    "\n",
    "# Save Figure\n",
    "plt.savefig(\"outputdata/NorthLatvsCloudinessLinReg.png\")\n",
    "\n",
    "# Print r value\n",
    "print(f\"The r-value is: {rvalue**2}\")\n",
    "\n",
    "# Show plot\n",
    "plt.show()"
   ]
  },
  {
   "cell_type": "code",
   "execution_count": 36,
   "metadata": {},
   "outputs": [
    {
     "name": "stdout",
     "output_type": "stream",
     "text": [
      "City_ID\n",
      "2      44.947701\n",
      "5      52.734242\n",
      "7      53.153197\n",
      "9      56.291538\n",
      "10     62.504949\n",
      "         ...    \n",
      "535    54.354804\n",
      "540    59.478354\n",
      "548    53.943723\n",
      "554    43.129543\n",
      "557    58.773725\n",
      "Name: Lat, Length: 164, dtype: float64\n"
     ]
    }
   ],
   "source": [
    "# Southern Hemisphere\n",
    "# # Linear regression on Northern Hemisphere\n",
    "x_valsouthcld = southern_hemi_df['Lat']\n",
    "y_valsouthcld = southern_hemi_df['Cloudiness']\n",
    "# Define a function to create Linear Regression plots\n",
    "(slope, intercept, rvalue, pvalue, stderr) = stats.linregress(x_valsouthcld, y_valsouthcld)\n",
    "\n",
    "# Get regression values\n",
    "regress_values_southcld = x_valsouthcld * slope + intercept\n",
    "print(regress_values_southcld)"
   ]
  },
  {
   "cell_type": "code",
   "execution_count": 37,
   "metadata": {},
   "outputs": [
    {
     "name": "stdout",
     "output_type": "stream",
     "text": [
      "y = 0.47x +62.79\n"
     ]
    }
   ],
   "source": [
    "line_eqsc = \"y = \" + str(round(slope,2)) + \"x +\" + str(round(intercept,2))\n",
    "print(line_eqsc)"
   ]
  },
  {
   "cell_type": "code",
   "execution_count": 38,
   "metadata": {},
   "outputs": [
    {
     "name": "stdout",
     "output_type": "stream",
     "text": [
      "The r-value is: 0.025507452255707497\n"
     ]
    },
    {
     "data": {
      "image/png": "[encoded data removed]",
      "text/plain": [
       "<Figure size 432x288 with 1 Axes>"
      ]
     },
     "metadata": {
      "needs_background": "light"
     },
     "output_type": "display_data"
    }
   ],
   "source": [
    "# Create Plot\n",
    "plt.scatter(x_valsouthcld,y_valsouthcld)\n",
    "plt.plot(x_valsouthcld,regress_values_southcld,\"r-\")\n",
    "\n",
    "# Label plot and annotate the line equation\n",
    "plt.xlabel('Latitude')\n",
    "plt.ylabel('Cloudiness')\n",
    "plt.annotate(line_eqsc,(-55,60),fontsize=15,color=\"red\")\n",
    "\n",
    "# Save Figure\n",
    "plt.savefig(\"outputdata/SouthLatvsCloudinessLinReg.png\")\n",
    "\n",
    "# Print r value\n",
    "print(f\"The r-value is: {rvalue**2}\")\n",
    "\n",
    "# Show plot\n",
    "plt.show()"
   ]
  },
  {
   "cell_type": "markdown",
   "metadata": {},
   "source": [
    "# Windspeed vs Latitude Linear Regression Plot"
   ]
  },
  {
   "cell_type": "code",
   "execution_count": 39,
   "metadata": {},
   "outputs": [
    {
     "name": "stdout",
     "output_type": "stream",
     "text": [
      "City_ID\n",
      "0      4.477932\n",
      "1      4.033445\n",
      "3      2.651462\n",
      "4      3.634666\n",
      "6      3.247570\n",
      "         ...   \n",
      "553    3.536797\n",
      "555    3.620173\n",
      "556    4.201579\n",
      "558    3.774928\n",
      "559    3.864226\n",
      "Name: Lat, Length: 396, dtype: float64\n"
     ]
    }
   ],
   "source": [
    "# Northern Hemisphere\n",
    "# Linear regression on Northern Hemisphere\n",
    "x_valnorthspd = northern_hemi_df['Lat']\n",
    "y_valnorthspd = northern_hemi_df['Wind Speed']\n",
    "# Define a function to create Linear Regression plots\n",
    "(slope, intercept, rvalue, pvalue, stderr) = stats.linregress(x_valnorthspd, y_valnorthspd)\n",
    "\n",
    "# Get regression values\n",
    "regress_values_northspd = x_valnorthspd * slope + intercept\n",
    "print(regress_values_northspd)"
   ]
  },
  {
   "cell_type": "code",
   "execution_count": 40,
   "metadata": {},
   "outputs": [
    {
     "name": "stdout",
     "output_type": "stream",
     "text": [
      "y = 0.03x +2.4\n"
     ]
    }
   ],
   "source": [
    "line_eqnw = \"y = \" + str(round(slope,2)) + \"x +\" + str(round(intercept,2))\n",
    "print(line_eqnw)"
   ]
  },
  {
   "cell_type": "code",
   "execution_count": 42,
   "metadata": {},
   "outputs": [
    {
     "name": "stdout",
     "output_type": "stream",
     "text": [
      "The r-value is: 0.053762244889175324\n"
     ]
    },
    {
     "data": {
      "image/png": "[encoded data removed]",
      "text/plain": [
       "<Figure size 432x288 with 1 Axes>"
      ]
     },
     "metadata": {
      "needs_background": "light"
     },
     "output_type": "display_data"
    }
   ],
   "source": [
    "# Create Plot\n",
    "plt.scatter(x_valnorthspd,y_valnorthspd)\n",
    "plt.plot(x_valnorthspd,regress_values_northspd,\"r-\")\n",
    "\n",
    "# Label plot and annotate the line equation\n",
    "plt.xlabel('Latitude')\n",
    "plt.ylabel('Wind Speed')\n",
    "plt.annotate(line_eqnw,(10,15),fontsize=15,color=\"red\")\n",
    "\n",
    "# Save Figure\n",
    "plt.savefig(\"outputdata/NorthLatvsWindSpeedLinReg.png\")\n",
    "\n",
    "# Print r value\n",
    "print(f\"The r-value is: {rvalue**2}\")\n",
    "\n",
    "# Show plot\n",
    "plt.show()"
   ]
  },
  {
   "cell_type": "code",
   "execution_count": 43,
   "metadata": {},
   "outputs": [
    {
     "name": "stdout",
     "output_type": "stream",
     "text": [
      "City_ID\n",
      "2      3.992077\n",
      "5      3.270963\n",
      "7      3.232164\n",
      "9      2.941521\n",
      "10     2.366095\n",
      "         ...   \n",
      "535    3.120883\n",
      "540    2.646389\n",
      "548    3.158953\n",
      "554    4.160457\n",
      "557    2.711645\n",
      "Name: Lat, Length: 164, dtype: float64\n"
     ]
    }
   ],
   "source": [
    "# Northern Hemisphere\n",
    "# Linear regression on Northern Hemisphere\n",
    "x_valsouthspd = southern_hemi_df['Lat']\n",
    "y_valsouthspd = southern_hemi_df['Wind Speed']\n",
    "# Define a function to create Linear Regression plots\n",
    "(slope, intercept, rvalue, pvalue, stderr) = stats.linregress(x_valsouthspd, y_valsouthspd)\n",
    "\n",
    "# Get regression values\n",
    "regress_values_southspd = x_valsouthspd * slope + intercept\n",
    "print(regress_values_southspd)"
   ]
  },
  {
   "cell_type": "code",
   "execution_count": 44,
   "metadata": {},
   "outputs": [
    {
     "name": "stdout",
     "output_type": "stream",
     "text": [
      "y = -0.04x +2.34\n"
     ]
    }
   ],
   "source": [
    "line_eqsw = \"y = \" + str(round(slope,2)) + \"x +\" + str(round(intercept,2))\n",
    "print(line_eqsw)"
   ]
  },
  {
   "cell_type": "code",
   "execution_count": 45,
   "metadata": {},
   "outputs": [
    {
     "name": "stdout",
     "output_type": "stream",
     "text": [
      "The r-value is: 0.06362833448099209\n"
     ]
    },
    {
     "data": {
      "image/png": "[encoded data removed]",
      "text/plain": [
       "<Figure size 432x288 with 1 Axes>"
      ]
     },
     "metadata": {
      "needs_background": "light"
     },
     "output_type": "display_data"
    }
   ],
   "source": [
    "# Create Plot\n",
    "plt.scatter(x_valsouthspd,y_valsouthspd)\n",
    "plt.plot(x_valsouthspd,regress_values_southspd,\"r-\")\n",
    "\n",
    "# Label plot and annotate the line equation\n",
    "plt.xlabel('Latitude')\n",
    "plt.ylabel('Wind Speed')\n",
    "plt.annotate(line_eqsw,(-25,11),fontsize=15,color=\"red\")\n",
    "\n",
    "# Save Figure\n",
    "plt.savefig(\"outputdata/SouthLatvsWindSpeedLinReg.png\")\n",
    "\n",
    "# Print r value\n",
    "print(f\"The r-value is: {rvalue**2}\")\n",
    "\n",
    "# Show plot\n",
    "plt.show()"
   ]
  },
  {
   "cell_type": "code",
   "execution_count": null,
   "metadata": {},
   "outputs": [],
   "source": []
  }
 ],
 "metadata": {
  "kernelspec": {
   "display_name": "Python 3 (ipykernel)",
   "language": "python",
   "name": "python3"
  },
  "language_info": {
   "codemirror_mode": {
    "name": "ipython",
    "version": 3
   },
   "file_extension": ".py",
   "mimetype": "text/x-python",
   "name": "python",
   "nbconvert_exporter": "python",
   "pygments_lexer": "ipython3",
   "version": "3.9.12"
  },
  "vscode": {
   "interpreter": {
    "hash": "31f2aee4e71d21fbe5cf8b01ff0e069b9275f58929596ceb00d14d90e3e16cd6"
   }
  }
 },
 "nbformat": 4,
 "nbformat_minor": 2
}
